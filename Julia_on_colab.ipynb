{
  "nbformat": 4,
  "nbformat_minor": 0,
  "metadata": {
    "accelerator": "GPU",
    "colab": {
      "name": "Julia_1.6.0.ipynb",
      "provenance": [],
      "collapsed_sections": []
    },
    "kernelspec": {
      "display_name": "Julia 1.6",
      "language": "julia",
      "name": "julia-1.6"
    },
    "language_info": {
      "file_extension": ".jl",
      "mimetype": "application/julia",
      "name": "julia",
      "version": "1.6.0"
    }
  },
  "cells": [
    {
      "cell_type": "code",
      "metadata": {
        "id": "PMGwZ7aFJL8Y"
      },
      "source": [
        "# Installation cell\n",
        "%%capture\n",
        "%%shell\n",
        "if ! command -v julia 3>&1 > /dev/null\n",
        "then\n",
        "    wget -q 'https://julialang-s3.julialang.org/bin/linux/x64/1.6/julia-1.6.1-linux-x86_64.tar.gz' \\\n",
        "        -O /tmp/julia.tar.gz\n",
        "    tar -x -f /tmp/julia.tar.gz -C /usr/local --strip-components 1\n",
        "    rm /tmp/julia.tar.gz\n",
        "fi\n",
        "julia -e 'using Pkg; pkg\"add IJulia; precompile;\"'\n",
        "echo 'Done'"
      ],
      "execution_count": 1,
      "outputs": []
    },
    {
      "cell_type": "markdown",
      "metadata": {
        "id": "XdMpcQduyaQc"
      },
      "source": [
        "After you run the first cell (the the cell directly above this text), go to Colab's menu bar and select **Edit** and select **Notebook settings** from the drop down. Select *Julia 1.6* in Runtime type. You can also select your prefered harwdware acceleration (defaults to GPU). \n",
        "\n",
        "<br/>You should see something like this:\n",
        "\n",
        "> ![Colab Img](https://raw.githubusercontent.com/Dsantra92/Julia-on-Colab/master/misc/julia_menu.png)\n",
        "\n",
        "<br/>Click on SAVE\n",
        "<br/>**We are ready to get going**\n",
        "\n",
        "\n",
        "\n"
      ]
    },
    {
      "cell_type": "code",
      "metadata": {
        "id": "iIxu4TjlJnBG",
        "colab": {
          "base_uri": "https://localhost:8080/"
        },
        "outputId": "bc9891ad-aa64-4fd1-c21f-359b3ff8035f"
      },
      "source": [
        "VERSION"
      ],
      "execution_count": 1,
      "outputs": [
        {
          "output_type": "execute_result",
          "data": {
            "text/plain": [
              "v\"1.6.1\""
            ]
          },
          "metadata": {
            "tags": []
          },
          "execution_count": 1
        }
      ]
    },
    {
      "cell_type": "markdown",
      "metadata": {
        "id": "rR7Ox6Ax0ypi"
      },
      "source": [
        "**The next three cells are for GPU benchmarking. If you are using this notebook for the first time and have GPU enabled, you can give it a try.** "
      ]
    },
    {
      "cell_type": "markdown",
      "metadata": {
        "id": "0y5TUI-Ll4cY"
      },
      "source": [
        "### Optional GPU Experiments"
      ]
    },
    {
      "cell_type": "code",
      "metadata": {
        "id": "vHKANz2J0GDW",
        "colab": {
          "base_uri": "https://localhost:8080/"
        },
        "outputId": "1c68f94c-b05d-48b8-a9e1-6ca892226a57"
      },
      "source": [
        "using Pkg\n",
        "Pkg.add([\"BenchmarkTools\", \"CUDA\"])\n",
        "using BenchmarkTools, CUDA\n",
        "\n",
        "if has_cuda_gpu()\n",
        "  print(\"The GPU device is:\", CUDA.device())\n",
        "end"
      ],
      "execution_count": 2,
      "outputs": [
        {
          "output_type": "stream",
          "text": [
            "The GPU device is:CuDevice(0)"
          ],
          "name": "stdout"
        }
      ]
    },
    {
      "cell_type": "code",
      "metadata": {
        "id": "q7Mbcm00lnxO",
        "colab": {
          "base_uri": "https://localhost:8080/"
        },
        "outputId": "e852c4cf-1a1f-46ed-eafe-cd9d44011316"
      },
      "source": [
        "mcpu = rand(2^10, 2^10)\n",
        "@benchmark mcpu*mcpu"
      ],
      "execution_count": 3,
      "outputs": [
        {
          "output_type": "execute_result",
          "data": {
            "text/plain": [
              "BenchmarkTools.Trial: \n",
              "  memory estimate:  8.00 MiB\n",
              "  allocs estimate:  2\n",
              "  --------------\n",
              "  minimum time:     51.256 ms (0.00% GC)\n",
              "  median time:      54.219 ms (0.00% GC)\n",
              "  mean time:        55.329 ms (0.68% GC)\n",
              "  maximum time:     82.020 ms (0.00% GC)\n",
              "  --------------\n",
              "  samples:          91\n",
              "  evals/sample:     1"
            ]
          },
          "metadata": {
            "tags": []
          },
          "execution_count": 3
        }
      ]
    },
    {
      "cell_type": "code",
      "metadata": {
        "id": "RMHRbF5J-vmW",
        "colab": {
          "base_uri": "https://localhost:8080/"
        },
        "outputId": "deb15f0d-d086-4b5f-ed36-06a3112a62b6"
      },
      "source": [
        "println(\"The CuArrray operation should take around 0.5 ms(excluding CUDA downloading time which is a one time process), and should be much faster. If so, the GPU is working.\")\n",
        "mgpu = cu(mcpu)\n",
        "@benchmark CUDA.@sync mgpu*mgpu"
      ],
      "execution_count": 4,
      "outputs": [
        {
          "output_type": "stream",
          "text": [
            "The CuArrray operation should take around 0.5 ms(excluding CUDA downloading time which is a one time process), and should be much faster. If so, the GPU is working.\n"
          ],
          "name": "stdout"
        },
        {
          "output_type": "execute_result",
          "data": {
            "text/plain": [
              "BenchmarkTools.Trial: \n",
              "  memory estimate:  7.55 KiB\n",
              "  allocs estimate:  458\n",
              "  --------------\n",
              "  minimum time:     351.586 μs (0.00% GC)\n",
              "  median time:      523.014 μs (0.00% GC)\n",
              "  mean time:        533.007 μs (0.48% GC)\n",
              "  maximum time:     14.080 ms (58.29% GC)\n",
              "  --------------\n",
              "  samples:          9298\n",
              "  evals/sample:     1"
            ]
          },
          "metadata": {
            "tags": []
          },
          "execution_count": 4
        }
      ]
    },
    {
      "cell_type": "code",
      "metadata": {
        "id": "WBdY-HUes4TB"
      },
      "source": [
        "Pkg.add([\"Flux\", \"Plots\"])"
      ],
      "execution_count": 5,
      "outputs": []
    },
    {
      "cell_type": "code",
      "metadata": {
        "id": "PSVIJqNDtNHY"
      },
      "source": [
        "using Plots"
      ],
      "execution_count": 7,
      "outputs": []
    },
    {
      "cell_type": "code",
      "metadata": {
        "colab": {
          "base_uri": "https://localhost:8080/",
          "height": 421
        },
        "id": "lLZCE1AxuARk",
        "outputId": "2616c9a6-fe12-4a99-d222-088be336c6c6"
      },
      "source": [
        "plot(tanh)"
      ],
      "execution_count": 9,
      "outputs": [
        {
          "output_type": "execute_result",
          "data": {
            "image/svg+xml": "<?xml version=\"1.0\" encoding=\"utf-8\"?>\n<svg xmlns=\"http://www.w3.org/2000/svg\" xmlns:xlink=\"http://www.w3.org/1999/xlink\" width=\"600\" height=\"400\" viewBox=\"0 0 2400 1600\">\n<defs>\n  <clipPath id=\"clip770\">\n    <rect x=\"0\" y=\"0\" width=\"2400\" height=\"1600\"/>\n  </clipPath>\n</defs>\n<path clip-path=\"url(#clip770)\" d=\"\nM0 1600 L2400 1600 L2400 0 L0 0  Z\n  \" fill=\"#ffffff\" fill-rule=\"evenodd\" fill-opacity=\"1\"/>\n<defs>\n  <clipPath id=\"clip771\">\n    <rect x=\"480\" y=\"0\" width=\"1681\" height=\"1600\"/>\n  </clipPath>\n</defs>\n<path clip-path=\"url(#clip770)\" d=\"\nM193.936 1486.45 L2352.76 1486.45 L2352.76 47.2441 L193.936 47.2441  Z\n  \" fill=\"#ffffff\" fill-rule=\"evenodd\" fill-opacity=\"1\"/>\n<defs>\n  <clipPath id=\"clip772\">\n    <rect x=\"193\" y=\"47\" width=\"2160\" height=\"1440\"/>\n  </clipPath>\n</defs>\n<polyline clip-path=\"url(#clip772)\" style=\"stroke:#000000; stroke-linecap:butt; stroke-linejoin:round; stroke-width:2; stroke-opacity:0.1; fill:none\" points=\"\n  458.697,1486.45 458.697,47.2441 \n  \"/>\n<polyline clip-path=\"url(#clip772)\" style=\"stroke:#000000; stroke-linecap:butt; stroke-linejoin:round; stroke-width:2; stroke-opacity:0.1; fill:none\" points=\"\n  866.021,1486.45 866.021,47.2441 \n  \"/>\n<polyline clip-path=\"url(#clip772)\" style=\"stroke:#000000; stroke-linecap:butt; stroke-linejoin:round; stroke-width:2; stroke-opacity:0.1; fill:none\" points=\"\n  1273.35,1486.45 1273.35,47.2441 \n  \"/>\n<polyline clip-path=\"url(#clip772)\" style=\"stroke:#000000; stroke-linecap:butt; stroke-linejoin:round; stroke-width:2; stroke-opacity:0.1; fill:none\" points=\"\n  1680.67,1486.45 1680.67,47.2441 \n  \"/>\n<polyline clip-path=\"url(#clip772)\" style=\"stroke:#000000; stroke-linecap:butt; stroke-linejoin:round; stroke-width:2; stroke-opacity:0.1; fill:none\" points=\"\n  2087.99,1486.45 2087.99,47.2441 \n  \"/>\n<polyline clip-path=\"url(#clip770)\" style=\"stroke:#000000; stroke-linecap:butt; stroke-linejoin:round; stroke-width:4; stroke-opacity:1; fill:none\" points=\"\n  193.936,1486.45 2352.76,1486.45 \n  \"/>\n<polyline clip-path=\"url(#clip770)\" style=\"stroke:#000000; stroke-linecap:butt; stroke-linejoin:round; stroke-width:4; stroke-opacity:1; fill:none\" points=\"\n  458.697,1486.45 458.697,1469.18 \n  \"/>\n<polyline clip-path=\"url(#clip770)\" style=\"stroke:#000000; stroke-linecap:butt; stroke-linejoin:round; stroke-width:4; stroke-opacity:1; fill:none\" points=\"\n  866.021,1486.45 866.021,1469.18 \n  \"/>\n<polyline clip-path=\"url(#clip770)\" style=\"stroke:#000000; stroke-linecap:butt; stroke-linejoin:round; stroke-width:4; stroke-opacity:1; fill:none\" points=\"\n  1273.35,1486.45 1273.35,1469.18 \n  \"/>\n<polyline clip-path=\"url(#clip770)\" style=\"stroke:#000000; stroke-linecap:butt; stroke-linejoin:round; stroke-width:4; stroke-opacity:1; fill:none\" points=\"\n  1680.67,1486.45 1680.67,1469.18 \n  \"/>\n<polyline clip-path=\"url(#clip770)\" style=\"stroke:#000000; stroke-linecap:butt; stroke-linejoin:round; stroke-width:4; stroke-opacity:1; fill:none\" points=\"\n  2087.99,1486.45 2087.99,1469.18 \n  \"/>\n<path clip-path=\"url(#clip770)\" d=\"M427.598 1530.29 L457.273 1530.29 L457.273 1534.23 L427.598 1534.23 L427.598 1530.29 Z\" fill=\"#000000\" fill-rule=\"evenodd\" fill-opacity=\"1\" /><path clip-path=\"url(#clip770)\" d=\"M480.213 1516.63 L468.408 1535.08 L480.213 1535.08 L480.213 1516.63 M478.986 1512.56 L484.866 1512.56 L484.866 1535.08 L489.796 1535.08 L489.796 1538.97 L484.866 1538.97 L484.866 1547.12 L480.213 1547.12 L480.213 1538.97 L464.611 1538.97 L464.611 1534.46 L478.986 1512.56 Z\" fill=\"#000000\" fill-rule=\"evenodd\" fill-opacity=\"1\" /><path clip-path=\"url(#clip770)\" d=\"M835.964 1530.29 L865.639 1530.29 L865.639 1534.23 L835.964 1534.23 L835.964 1530.29 Z\" fill=\"#000000\" fill-rule=\"evenodd\" fill-opacity=\"1\" /><path clip-path=\"url(#clip770)\" d=\"M879.76 1543.18 L896.079 1543.18 L896.079 1547.12 L874.135 1547.12 L874.135 1543.18 Q876.797 1540.43 881.38 1535.8 Q885.987 1531.15 887.167 1529.81 Q889.413 1527.28 890.292 1525.55 Q891.195 1523.79 891.195 1522.1 Q891.195 1519.34 889.25 1517.61 Q887.329 1515.87 884.227 1515.87 Q882.028 1515.87 879.575 1516.63 Q877.144 1517.4 874.366 1518.95 L874.366 1514.23 Q877.19 1513.09 879.644 1512.51 Q882.098 1511.93 884.135 1511.93 Q889.505 1511.93 892.7 1514.62 Q895.894 1517.31 895.894 1521.8 Q895.894 1523.93 895.084 1525.85 Q894.297 1527.74 892.19 1530.34 Q891.612 1531.01 888.51 1534.23 Q885.408 1537.42 879.76 1543.18 Z\" fill=\"#000000\" fill-rule=\"evenodd\" fill-opacity=\"1\" /><path clip-path=\"url(#clip770)\" d=\"M1273.35 1515.64 Q1269.73 1515.64 1267.91 1519.2 Q1266.1 1522.75 1266.1 1529.87 Q1266.1 1536.98 1267.91 1540.55 Q1269.73 1544.09 1273.35 1544.09 Q1276.98 1544.09 1278.79 1540.55 Q1280.61 1536.98 1280.61 1529.87 Q1280.61 1522.75 1278.79 1519.2 Q1276.98 1515.64 1273.35 1515.64 M1273.35 1511.93 Q1279.16 1511.93 1282.21 1516.54 Q1285.29 1521.12 1285.29 1529.87 Q1285.29 1538.6 1282.21 1543.21 Q1279.16 1547.79 1273.35 1547.79 Q1267.54 1547.79 1264.46 1543.21 Q1261.4 1538.6 1261.4 1529.87 Q1261.4 1521.12 1264.46 1516.54 Q1267.54 1511.93 1273.35 1511.93 Z\" fill=\"#000000\" fill-rule=\"evenodd\" fill-opacity=\"1\" /><path clip-path=\"url(#clip770)\" d=\"M1675.32 1543.18 L1691.64 1543.18 L1691.64 1547.12 L1669.7 1547.12 L1669.7 1543.18 Q1672.36 1540.43 1676.94 1535.8 Q1681.55 1531.15 1682.73 1529.81 Q1684.98 1527.28 1685.86 1525.55 Q1686.76 1523.79 1686.76 1522.1 Q1686.76 1519.34 1684.81 1517.61 Q1682.89 1515.87 1679.79 1515.87 Q1677.59 1515.87 1675.14 1516.63 Q1672.71 1517.4 1669.93 1518.95 L1669.93 1514.23 Q1672.75 1513.09 1675.21 1512.51 Q1677.66 1511.93 1679.7 1511.93 Q1685.07 1511.93 1688.26 1514.62 Q1691.46 1517.31 1691.46 1521.8 Q1691.46 1523.93 1690.65 1525.85 Q1689.86 1527.74 1687.75 1530.34 Q1687.18 1531.01 1684.07 1534.23 Q1680.97 1537.42 1675.32 1543.18 Z\" fill=\"#000000\" fill-rule=\"evenodd\" fill-opacity=\"1\" /><path clip-path=\"url(#clip770)\" d=\"M2091 1516.63 L2079.2 1535.08 L2091 1535.08 L2091 1516.63 M2089.78 1512.56 L2095.66 1512.56 L2095.66 1535.08 L2100.59 1535.08 L2100.59 1538.97 L2095.66 1538.97 L2095.66 1547.12 L2091 1547.12 L2091 1538.97 L2075.4 1538.97 L2075.4 1534.46 L2089.78 1512.56 Z\" fill=\"#000000\" fill-rule=\"evenodd\" fill-opacity=\"1\" /><polyline clip-path=\"url(#clip772)\" style=\"stroke:#000000; stroke-linecap:butt; stroke-linejoin:round; stroke-width:2; stroke-opacity:0.1; fill:none\" points=\"\n  193.936,1445.78 2352.76,1445.78 \n  \"/>\n<polyline clip-path=\"url(#clip772)\" style=\"stroke:#000000; stroke-linecap:butt; stroke-linejoin:round; stroke-width:2; stroke-opacity:0.1; fill:none\" points=\"\n  193.936,1106.31 2352.76,1106.31 \n  \"/>\n<polyline clip-path=\"url(#clip772)\" style=\"stroke:#000000; stroke-linecap:butt; stroke-linejoin:round; stroke-width:2; stroke-opacity:0.1; fill:none\" points=\"\n  193.936,766.846 2352.76,766.846 \n  \"/>\n<polyline clip-path=\"url(#clip772)\" style=\"stroke:#000000; stroke-linecap:butt; stroke-linejoin:round; stroke-width:2; stroke-opacity:0.1; fill:none\" points=\"\n  193.936,427.38 2352.76,427.38 \n  \"/>\n<polyline clip-path=\"url(#clip772)\" style=\"stroke:#000000; stroke-linecap:butt; stroke-linejoin:round; stroke-width:2; stroke-opacity:0.1; fill:none\" points=\"\n  193.936,87.9146 2352.76,87.9146 \n  \"/>\n<polyline clip-path=\"url(#clip770)\" style=\"stroke:#000000; stroke-linecap:butt; stroke-linejoin:round; stroke-width:4; stroke-opacity:1; fill:none\" points=\"\n  193.936,1486.45 193.936,47.2441 \n  \"/>\n<polyline clip-path=\"url(#clip770)\" style=\"stroke:#000000; stroke-linecap:butt; stroke-linejoin:round; stroke-width:4; stroke-opacity:1; fill:none\" points=\"\n  193.936,1445.78 219.842,1445.78 \n  \"/>\n<polyline clip-path=\"url(#clip770)\" style=\"stroke:#000000; stroke-linecap:butt; stroke-linejoin:round; stroke-width:4; stroke-opacity:1; fill:none\" points=\"\n  193.936,1106.31 219.842,1106.31 \n  \"/>\n<polyline clip-path=\"url(#clip770)\" style=\"stroke:#000000; stroke-linecap:butt; stroke-linejoin:round; stroke-width:4; stroke-opacity:1; fill:none\" points=\"\n  193.936,766.846 219.842,766.846 \n  \"/>\n<polyline clip-path=\"url(#clip770)\" style=\"stroke:#000000; stroke-linecap:butt; stroke-linejoin:round; stroke-width:4; stroke-opacity:1; fill:none\" points=\"\n  193.936,427.38 219.842,427.38 \n  \"/>\n<polyline clip-path=\"url(#clip770)\" style=\"stroke:#000000; stroke-linecap:butt; stroke-linejoin:round; stroke-width:4; stroke-opacity:1; fill:none\" points=\"\n  193.936,87.9146 219.842,87.9146 \n  \"/>\n<path clip-path=\"url(#clip770)\" d=\"M50.9921 1446.23 L80.6679 1446.23 L80.6679 1450.16 L50.9921 1450.16 L50.9921 1446.23 Z\" fill=\"#000000\" fill-rule=\"evenodd\" fill-opacity=\"1\" /><path clip-path=\"url(#clip770)\" d=\"M91.5706 1459.12 L99.2095 1459.12 L99.2095 1432.76 L90.8993 1434.42 L90.8993 1430.16 L99.1632 1428.5 L103.839 1428.5 L103.839 1459.12 L111.478 1459.12 L111.478 1463.06 L91.5706 1463.06 L91.5706 1459.12 Z\" fill=\"#000000\" fill-rule=\"evenodd\" fill-opacity=\"1\" /><path clip-path=\"url(#clip770)\" d=\"M120.922 1457.18 L125.807 1457.18 L125.807 1463.06 L120.922 1463.06 L120.922 1457.18 Z\" fill=\"#000000\" fill-rule=\"evenodd\" fill-opacity=\"1\" /><path clip-path=\"url(#clip770)\" d=\"M145.992 1431.58 Q142.381 1431.58 140.552 1435.14 Q138.746 1438.68 138.746 1445.81 Q138.746 1452.92 140.552 1456.48 Q142.381 1460.02 145.992 1460.02 Q149.626 1460.02 151.431 1456.48 Q153.26 1452.92 153.26 1445.81 Q153.26 1438.68 151.431 1435.14 Q149.626 1431.58 145.992 1431.58 M145.992 1427.87 Q151.802 1427.87 154.857 1432.48 Q157.936 1437.06 157.936 1445.81 Q157.936 1454.54 154.857 1459.15 Q151.802 1463.73 145.992 1463.73 Q140.181 1463.73 137.103 1459.15 Q134.047 1454.54 134.047 1445.81 Q134.047 1437.06 137.103 1432.48 Q140.181 1427.87 145.992 1427.87 Z\" fill=\"#000000\" fill-rule=\"evenodd\" fill-opacity=\"1\" /><path clip-path=\"url(#clip770)\" d=\"M51.9875 1106.76 L81.6633 1106.76 L81.6633 1110.7 L51.9875 1110.7 L51.9875 1106.76 Z\" fill=\"#000000\" fill-rule=\"evenodd\" fill-opacity=\"1\" /><path clip-path=\"url(#clip770)\" d=\"M101.756 1092.11 Q98.1447 1092.11 96.316 1095.68 Q94.5104 1099.22 94.5104 1106.35 Q94.5104 1113.45 96.316 1117.02 Q98.1447 1120.56 101.756 1120.56 Q105.39 1120.56 107.196 1117.02 Q109.024 1113.45 109.024 1106.35 Q109.024 1099.22 107.196 1095.68 Q105.39 1092.11 101.756 1092.11 M101.756 1088.41 Q107.566 1088.41 110.621 1093.01 Q113.7 1097.6 113.7 1106.35 Q113.7 1115.07 110.621 1119.68 Q107.566 1124.26 101.756 1124.26 Q95.9456 1124.26 92.8669 1119.68 Q89.8114 1115.07 89.8114 1106.35 Q89.8114 1097.6 92.8669 1093.01 Q95.9456 1088.41 101.756 1088.41 Z\" fill=\"#000000\" fill-rule=\"evenodd\" fill-opacity=\"1\" /><path clip-path=\"url(#clip770)\" d=\"M121.918 1117.71 L126.802 1117.71 L126.802 1123.59 L121.918 1123.59 L121.918 1117.71 Z\" fill=\"#000000\" fill-rule=\"evenodd\" fill-opacity=\"1\" /><path clip-path=\"url(#clip770)\" d=\"M137.033 1089.03 L155.39 1089.03 L155.39 1092.97 L141.316 1092.97 L141.316 1101.44 Q142.334 1101.09 143.353 1100.93 Q144.371 1100.74 145.39 1100.74 Q151.177 1100.74 154.556 1103.92 Q157.936 1107.09 157.936 1112.5 Q157.936 1118.08 154.464 1121.18 Q150.992 1124.26 144.672 1124.26 Q142.496 1124.26 140.228 1123.89 Q137.982 1123.52 135.575 1122.78 L135.575 1118.08 Q137.658 1119.22 139.881 1119.77 Q142.103 1120.33 144.58 1120.33 Q148.584 1120.33 150.922 1118.22 Q153.26 1116.11 153.26 1112.5 Q153.26 1108.89 150.922 1106.79 Q148.584 1104.68 144.58 1104.68 Q142.705 1104.68 140.83 1105.1 Q138.978 1105.51 137.033 1106.39 L137.033 1089.03 Z\" fill=\"#000000\" fill-rule=\"evenodd\" fill-opacity=\"1\" /><path clip-path=\"url(#clip770)\" d=\"M100.76 752.645 Q97.1493 752.645 95.3206 756.209 Q93.515 759.751 93.515 766.881 Q93.515 773.987 95.3206 777.552 Q97.1493 781.094 100.76 781.094 Q104.395 781.094 106.2 777.552 Q108.029 773.987 108.029 766.881 Q108.029 759.751 106.2 756.209 Q104.395 752.645 100.76 752.645 M100.76 748.941 Q106.571 748.941 109.626 753.547 Q112.705 758.131 112.705 766.881 Q112.705 775.608 109.626 780.214 Q106.571 784.797 100.76 784.797 Q94.9502 784.797 91.8715 780.214 Q88.816 775.608 88.816 766.881 Q88.816 758.131 91.8715 753.547 Q94.9502 748.941 100.76 748.941 Z\" fill=\"#000000\" fill-rule=\"evenodd\" fill-opacity=\"1\" /><path clip-path=\"url(#clip770)\" d=\"M120.922 778.246 L125.807 778.246 L125.807 784.126 L120.922 784.126 L120.922 778.246 Z\" fill=\"#000000\" fill-rule=\"evenodd\" fill-opacity=\"1\" /><path clip-path=\"url(#clip770)\" d=\"M145.992 752.645 Q142.381 752.645 140.552 756.209 Q138.746 759.751 138.746 766.881 Q138.746 773.987 140.552 777.552 Q142.381 781.094 145.992 781.094 Q149.626 781.094 151.431 777.552 Q153.26 773.987 153.26 766.881 Q153.26 759.751 151.431 756.209 Q149.626 752.645 145.992 752.645 M145.992 748.941 Q151.802 748.941 154.857 753.547 Q157.936 758.131 157.936 766.881 Q157.936 775.608 154.857 780.214 Q151.802 784.797 145.992 784.797 Q140.181 784.797 137.103 780.214 Q134.047 775.608 134.047 766.881 Q134.047 758.131 137.103 753.547 Q140.181 748.941 145.992 748.941 Z\" fill=\"#000000\" fill-rule=\"evenodd\" fill-opacity=\"1\" /><path clip-path=\"url(#clip770)\" d=\"M101.756 413.179 Q98.1447 413.179 96.316 416.744 Q94.5104 420.285 94.5104 427.415 Q94.5104 434.521 96.316 438.086 Q98.1447 441.628 101.756 441.628 Q105.39 441.628 107.196 438.086 Q109.024 434.521 109.024 427.415 Q109.024 420.285 107.196 416.744 Q105.39 413.179 101.756 413.179 M101.756 409.475 Q107.566 409.475 110.621 414.082 Q113.7 418.665 113.7 427.415 Q113.7 436.142 110.621 440.748 Q107.566 445.332 101.756 445.332 Q95.9456 445.332 92.8669 440.748 Q89.8114 436.142 89.8114 427.415 Q89.8114 418.665 92.8669 414.082 Q95.9456 409.475 101.756 409.475 Z\" fill=\"#000000\" fill-rule=\"evenodd\" fill-opacity=\"1\" /><path clip-path=\"url(#clip770)\" d=\"M121.918 438.781 L126.802 438.781 L126.802 444.66 L121.918 444.66 L121.918 438.781 Z\" fill=\"#000000\" fill-rule=\"evenodd\" fill-opacity=\"1\" /><path clip-path=\"url(#clip770)\" d=\"M137.033 410.1 L155.39 410.1 L155.39 414.035 L141.316 414.035 L141.316 422.508 Q142.334 422.16 143.353 421.998 Q144.371 421.813 145.39 421.813 Q151.177 421.813 154.556 424.984 Q157.936 428.156 157.936 433.572 Q157.936 439.151 154.464 442.253 Q150.992 445.332 144.672 445.332 Q142.496 445.332 140.228 444.961 Q137.982 444.591 135.575 443.85 L135.575 439.151 Q137.658 440.285 139.881 440.841 Q142.103 441.396 144.58 441.396 Q148.584 441.396 150.922 439.29 Q153.26 437.183 153.26 433.572 Q153.26 429.961 150.922 427.855 Q148.584 425.748 144.58 425.748 Q142.705 425.748 140.83 426.165 Q138.978 426.582 137.033 427.461 L137.033 410.1 Z\" fill=\"#000000\" fill-rule=\"evenodd\" fill-opacity=\"1\" /><path clip-path=\"url(#clip770)\" d=\"M91.5706 101.259 L99.2095 101.259 L99.2095 74.8939 L90.8993 76.5605 L90.8993 72.3013 L99.1632 70.6346 L103.839 70.6346 L103.839 101.259 L111.478 101.259 L111.478 105.195 L91.5706 105.195 L91.5706 101.259 Z\" fill=\"#000000\" fill-rule=\"evenodd\" fill-opacity=\"1\" /><path clip-path=\"url(#clip770)\" d=\"M120.922 99.315 L125.807 99.315 L125.807 105.195 L120.922 105.195 L120.922 99.315 Z\" fill=\"#000000\" fill-rule=\"evenodd\" fill-opacity=\"1\" /><path clip-path=\"url(#clip770)\" d=\"M145.992 73.7133 Q142.381 73.7133 140.552 77.2781 Q138.746 80.8198 138.746 87.9494 Q138.746 95.0558 140.552 98.6206 Q142.381 102.162 145.992 102.162 Q149.626 102.162 151.431 98.6206 Q153.26 95.0558 153.26 87.9494 Q153.26 80.8198 151.431 77.2781 Q149.626 73.7133 145.992 73.7133 M145.992 70.0096 Q151.802 70.0096 154.857 74.6161 Q157.936 79.1994 157.936 87.9494 Q157.936 96.6762 154.857 101.283 Q151.802 105.866 145.992 105.866 Q140.181 105.866 137.103 101.283 Q134.047 96.6762 134.047 87.9494 Q134.047 79.1994 137.103 74.6161 Q140.181 70.0096 145.992 70.0096 Z\" fill=\"#000000\" fill-rule=\"evenodd\" fill-opacity=\"1\" /><polyline clip-path=\"url(#clip772)\" style=\"stroke:#009af9; stroke-linecap:butt; stroke-linejoin:round; stroke-width:4; stroke-opacity:1; fill:none\" points=\"\n  255.035,1445.72 274.924,1445.7 458.829,1445.32 569.348,1444.43 662.791,1442.41 764.296,1436.68 857.875,1423.2 908.038,1409.22 958.201,1386.95 987.26,1368.63 \n  1016.32,1345.04 1045.38,1314.97 1074.44,1277.14 1100.26,1235.98 1126.09,1186.97 1151.91,1129.65 1177.74,1064.05 1223.03,931.253 1268.32,783.596 1317.7,621.28 \n  1367.08,474.713 1391.92,410.91 1416.75,354.739 1441.59,306.276 1466.43,265.185 1493.89,227.595 1521.35,197.238 1548.81,173.017 1576.27,153.879 1628.52,128.186 \n  1680.78,112.312 1789.45,96.4072 1880.92,91.3862 1992.6,89.076 2097.58,88.3291 2265.77,87.9941 2291.66,87.9763 \n  \"/>\n<path clip-path=\"url(#clip770)\" d=\"\nM1988.5 216.178 L2280.8 216.178 L2280.8 95.2176 L1988.5 95.2176  Z\n  \" fill=\"#ffffff\" fill-rule=\"evenodd\" fill-opacity=\"1\"/>\n<polyline clip-path=\"url(#clip770)\" style=\"stroke:#000000; stroke-linecap:butt; stroke-linejoin:round; stroke-width:4; stroke-opacity:1; fill:none\" points=\"\n  1988.5,216.178 2280.8,216.178 2280.8,95.2176 1988.5,95.2176 1988.5,216.178 \n  \"/>\n<polyline clip-path=\"url(#clip770)\" style=\"stroke:#009af9; stroke-linecap:butt; stroke-linejoin:round; stroke-width:4; stroke-opacity:1; fill:none\" points=\"\n  2012.48,155.698 2156.4,155.698 \n  \"/>\n<path clip-path=\"url(#clip770)\" d=\"M2194.23 175.385 Q2192.43 180.015 2190.72 181.427 Q2189 182.839 2186.13 182.839 L2182.73 182.839 L2182.73 179.274 L2185.23 179.274 Q2186.99 179.274 2187.96 178.44 Q2188.93 177.607 2190.11 174.505 L2190.88 172.561 L2180.39 147.052 L2184.91 147.052 L2193.01 167.329 L2201.11 147.052 L2205.62 147.052 L2194.23 175.385 Z\" fill=\"#000000\" fill-rule=\"evenodd\" fill-opacity=\"1\" /><path clip-path=\"url(#clip770)\" d=\"M2212.91 169.042 L2220.55 169.042 L2220.55 142.677 L2212.24 144.343 L2212.24 140.084 L2220.51 138.418 L2225.18 138.418 L2225.18 169.042 L2232.82 169.042 L2232.82 172.978 L2212.91 172.978 L2212.91 169.042 Z\" fill=\"#000000\" fill-rule=\"evenodd\" fill-opacity=\"1\" /></svg>\n"
          },
          "metadata": {
            "tags": []
          },
          "execution_count": 9
        }
      ]
    },
    {
      "cell_type": "code",
      "metadata": {
        "id": "Ne6BJZDOuF3r"
      },
      "source": [
        ""
      ],
      "execution_count": null,
      "outputs": []
    }
  ]
}